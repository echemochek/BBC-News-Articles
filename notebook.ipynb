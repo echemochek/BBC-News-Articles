{
 "cells": [
  {
   "cell_type": "markdown",
   "metadata": {},
   "source": [
    "# Document Tagging: BBC News Articles "
   ]
  },
  {
   "cell_type": "markdown",
   "metadata": {},
   "source": [
    "This corpus used in this project includes 2,225 documents from BBC's news website corresponding to stories in five topical areas (business, entertainment, politics, sport, tech) from 2004-2005. \n",
    "\n",
    "The CSV file includes two columns: category (the five class labels) and text (pre-processed article content). In this project, I will use only the text column.\n",
    "\n",
    "More information on this data set as well as a paper written using this data set is available here http://mlg.ucd.ie/datasets/bbc.html."
   ]
  },
  {
   "cell_type": "markdown",
   "metadata": {},
   "source": [
    "## Data Prep"
   ]
  },
  {
   "cell_type": "markdown",
   "metadata": {},
   "source": [
    "### Import Libraries"
   ]
  },
  {
   "cell_type": "code",
   "execution_count": 1,
   "metadata": {},
   "outputs": [],
   "source": [
    "import pprint\n",
    "import pandas as pd\n",
    "from sklearn.feature_extraction.text import TfidfVectorizer\n",
    "from nltk.stem import PorterStemmer\n",
    "from nltk.stem.wordnet import WordNetLemmatizer\n",
    "from nltk.tokenize import word_tokenize\n",
    "from nltk.corpus import stopwords\n",
    "import gensim\n",
    "\n",
    "import random\n",
    "random.seed(42)"
   ]
  },
  {
   "cell_type": "markdown",
   "metadata": {},
   "source": [
    "### Load Data"
   ]
  },
  {
   "cell_type": "code",
   "execution_count": 2,
   "metadata": {},
   "outputs": [
    {
     "data": {
      "text/html": [
       "<div>\n",
       "<style scoped>\n",
       "    .dataframe tbody tr th:only-of-type {\n",
       "        vertical-align: middle;\n",
       "    }\n",
       "\n",
       "    .dataframe tbody tr th {\n",
       "        vertical-align: top;\n",
       "    }\n",
       "\n",
       "    .dataframe thead th {\n",
       "        text-align: right;\n",
       "    }\n",
       "</style>\n",
       "<table border=\"1\" class=\"dataframe\">\n",
       "  <thead>\n",
       "    <tr style=\"text-align: right;\">\n",
       "      <th></th>\n",
       "      <th>text</th>\n",
       "    </tr>\n",
       "  </thead>\n",
       "  <tbody>\n",
       "    <tr>\n",
       "      <th>0</th>\n",
       "      <td>tv future in the hands of viewers with home th...</td>\n",
       "    </tr>\n",
       "    <tr>\n",
       "      <th>1</th>\n",
       "      <td>worldcom boss  left books alone  former worldc...</td>\n",
       "    </tr>\n",
       "    <tr>\n",
       "      <th>2</th>\n",
       "      <td>tigers wary of farrell  gamble  leicester say ...</td>\n",
       "    </tr>\n",
       "  </tbody>\n",
       "</table>\n",
       "</div>"
      ],
      "text/plain": [
       "                                                text\n",
       "0  tv future in the hands of viewers with home th...\n",
       "1  worldcom boss  left books alone  former worldc...\n",
       "2  tigers wary of farrell  gamble  leicester say ..."
      ]
     },
     "execution_count": 2,
     "metadata": {},
     "output_type": "execute_result"
    }
   ],
   "source": [
    "df = pd.read_csv(\"data/BBC-articles.csv\")\n",
    "df = df[['text']][:100]\n",
    "df.head(3)"
   ]
  },
  {
   "cell_type": "markdown",
   "metadata": {},
   "source": [
    "### Initial Prep"
   ]
  },
  {
   "cell_type": "code",
   "execution_count": 3,
   "metadata": {},
   "outputs": [],
   "source": [
    "'''\n",
    "This function takes as input a df and name of column (containing sentences) in the df.\n",
    "The input is split to tokens which are lemmatized, and stopwords removed.\n",
    "The output is a list of lists.  \n",
    "'''\n",
    "import re\n",
    "def preprocess_text(text):    \n",
    "    cleanTokens=[]\n",
    "    lem = WordNetLemmatizer()\n",
    "    stop = set(stopwords.words('english'))\n",
    "\n",
    "    for txt in text:\n",
    "        words = [lem.lemmatize(w) for w in word_tokenize(txt) if (w not in stop) and len(w)>2]\n",
    "        cleanTokens.append(words)        \n",
    "\n",
    "    return cleanTokens\n",
    "\n",
    "\n",
    "df['cleanTokens'] = preprocess_text(df.text)"
   ]
  },
  {
   "cell_type": "markdown",
   "metadata": {},
   "source": [
    "## Modeling"
   ]
  },
  {
   "cell_type": "code",
   "execution_count": 4,
   "metadata": {},
   "outputs": [],
   "source": [
    "# Getting tokens to use with Gensim\n",
    "tokens = df.cleanTokens.to_list()"
   ]
  },
  {
   "cell_type": "code",
   "execution_count": 5,
   "metadata": {},
   "outputs": [],
   "source": [
    "'''\n",
    "This function takes as input a string of text and returns a list of nouns, noun phrases and named entities.\n",
    "The function has a high complexity, and there may be more efficient ways to go about it.\n",
    "However, this gives me the output I desire the compared to available methods/packages.\n",
    "'''\n",
    "import nltk\n",
    "# nltk.download('brown')\n",
    "# nltk.download('punkt')\n",
    "# nltk.download('averaged_perceptron_tagger')\n",
    "# nltk.download('maxent_ne_chunker')\n",
    "# nltk.download('words')\n",
    "\n",
    "from nltk import ne_chunk, pos_tag, sent_tokenize, word_tokenize\n",
    "from nltk.tree import Tree\n",
    "\n",
    "def getNouns(text):\n",
    "    global nouns\n",
    "    nouns = []\n",
    "\n",
    "    for sentence in sent_tokenize(text):\n",
    "        for word, pos in pos_tag(word_tokenize(sentence)):\n",
    "            if (pos == 'NN' or pos == 'NNP' or pos == 'NNS' or pos == 'NNPS'):\n",
    "                nouns.append(word)\n",
    "\n",
    "        chunked = ne_chunk(pos_tag(word_tokenize(sentence)))\n",
    "        continuous_chunk = []\n",
    "        current_chunk = []\n",
    "        for i in chunked:\n",
    "                if type(i) == Tree:\n",
    "                        current_chunk.append(\" \".join([token for token, pos in i.leaves()]))\n",
    "                if current_chunk:\n",
    "                        named_entity = \" \".join(current_chunk)\n",
    "                        if named_entity not in nouns:\n",
    "                                nouns.append(named_entity)\n",
    "                                current_chunk = []\n",
    "                else:\n",
    "                        continue\n",
    "    return nouns"
   ]
  },
  {
   "cell_type": "code",
   "execution_count": 8,
   "metadata": {},
   "outputs": [],
   "source": [
    "df['nouns'] = df.text.apply(lambda x: getNouns(x))"
   ]
  },
  {
   "cell_type": "code",
   "execution_count": 9,
   "metadata": {},
   "outputs": [],
   "source": [
    "from gensim.corpora import Dictionary\n",
    "from gensim.models import TfidfModel\n",
    "\n",
    "# TF-IDF with basic cleaning\n",
    "dictionaryLtd = Dictionary(tokens)\n",
    "dtmLtd = [dictionaryLtd.doc2bow(doc) for doc in tokens]\n",
    "tfidfVectorizerLtd = TfidfModel(dtmLtd) \n",
    "tfidfLtd = tfidfVectorizerLtd[dtmLtd]\n",
    "\n",
    "# TF-IDF with term frequency filter cleaning\n",
    "dictionaryFiltered = Dictionary(tokens)\n",
    "dictionaryFiltered.filter_extremes(no_below=5, no_above=0.90)\n",
    "dtmFiltered = [dictionaryFiltered.doc2bow(doc) for doc in tokens]\n",
    "tfidfVectorizerFiltered = TfidfModel(dtmFiltered) \n",
    "tfidfFiltered = tfidfVectorizerFiltered[dtmFiltered]\n",
    "\n",
    "# TF-IDF with only nouns, noun phrases and NER\n",
    "dictionaryNouns = Dictionary(df.nouns)\n",
    "dtmNouns = [dictionaryNouns.doc2bow(doc) for doc in df.nouns]\n",
    "tfidfVectorizerNouns = TfidfModel(dtmNouns) \n",
    "tfidfNouns = tfidfVectorizerNouns[dtmNouns]"
   ]
  },
  {
   "cell_type": "markdown",
   "metadata": {},
   "source": [
    "### LSI"
   ]
  },
  {
   "cell_type": "code",
   "execution_count": 10,
   "metadata": {},
   "outputs": [],
   "source": [
    "from gensim.models import LsiModel, CoherenceModel\n",
    "\n",
    "# tfidfLtd\n",
    "lsi_Ltd = LsiModel(corpus=tfidfLtd, id2word=dictionaryLtd, num_topics=10)\n",
    "\n",
    "# tfidfFiltered\n",
    "lsi_Filtered = LsiModel(corpus=tfidfFiltered, id2word=dictionaryFiltered, num_topics=10)\n",
    "\n",
    "# tfidfNouns\n",
    "lsi_Nouns = LsiModel(corpus=tfidfNouns, id2word=dictionaryNouns, num_topics=10)"
   ]
  },
  {
   "cell_type": "code",
   "execution_count": 11,
   "metadata": {},
   "outputs": [
    {
     "data": {
      "image/png": "[encoded data removed]",
      "text/plain": [
       "<Figure size 432x288 with 1 Axes>"
      ]
     },
     "metadata": {
      "needs_background": "light"
     },
     "output_type": "display_data"
    }
   ],
   "source": [
    "# Determining optimum number of topics using coherence values for tfidfLtd\n",
    "\n",
    "coherence_values = []\n",
    "model_list = []\n",
    "min_topics, max_topics, step = 1, 10, 1\n",
    "for i in range(min_topics, max_topics, step):\n",
    "    model = LsiModel(tfidfLtd, id2word=dictionaryLtd, num_topics=i)\n",
    "    model_list.append(model)\n",
    "    coherencemodel = CoherenceModel(model=model, texts=tokens, \\\n",
    "        dictionary=dictionaryLtd, coherence='c_v')\n",
    "    coherence_values.append(coherencemodel.get_coherence())\n",
    "\n",
    "\n",
    "import matplotlib.pyplot as plt\n",
    "x = range(min_topics, max_topics, step)\n",
    "plt.plot(x, coherence_values)\n",
    "plt.xlabel(\"Number of Topics\")\n",
    "plt.ylabel(\"Coherence Score\")\n",
    "plt.legend((\"coherence_values\"), loc=\"best\")\n",
    "plt.show()"
   ]
  },
  {
   "cell_type": "markdown",
   "metadata": {},
   "source": [
    "For TFIDF the best model is when topics = 2"
   ]
  },
  {
   "cell_type": "code",
   "execution_count": 12,
   "metadata": {},
   "outputs": [],
   "source": [
    "# tfidfLtd with the optimum number of topics\n",
    "lsi_Ltd = LsiModel(corpus=tfidfLtd, id2word=dictionaryLtd, num_topics=2)"
   ]
  },
  {
   "cell_type": "code",
   "execution_count": 13,
   "metadata": {},
   "outputs": [
    {
     "data": {
      "image/png": "[encoded data removed]",
      "text/plain": [
       "<Figure size 432x288 with 1 Axes>"
      ]
     },
     "metadata": {
      "needs_background": "light"
     },
     "output_type": "display_data"
    }
   ],
   "source": [
    "# Determining optimum number of topics using coherence values for tfidfFiltered\n",
    "\n",
    "coherence_values = []\n",
    "model_list = []\n",
    "min_topics, max_topics, step = 1, 10, 1\n",
    "for i in range(min_topics, max_topics, step):\n",
    "    model = LsiModel(tfidfFiltered, id2word=dictionaryFiltered, num_topics=i)\n",
    "    model_list.append(model)\n",
    "    coherencemodel = CoherenceModel(model=model, texts=tokens, \\\n",
    "        dictionary=dictionaryFiltered, coherence='c_v')\n",
    "    coherence_values.append(coherencemodel.get_coherence())\n",
    "\n",
    "\n",
    "import matplotlib.pyplot as plt\n",
    "x = range(min_topics, max_topics, step)\n",
    "plt.plot(x, coherence_values)\n",
    "plt.xlabel(\"Number of Topics\")\n",
    "plt.ylabel(\"Coherence Score\")\n",
    "plt.legend((\"coherence_values\"), loc=\"best\")\n",
    "plt.show()"
   ]
  },
  {
   "cell_type": "markdown",
   "metadata": {},
   "source": [
    "For TFIDF using filtered data the best model is when topics = 4"
   ]
  },
  {
   "cell_type": "code",
   "execution_count": 14,
   "metadata": {},
   "outputs": [],
   "source": [
    "# tfidfFiltered with the optimum number of topics\n",
    "lsi_Filtered = LsiModel(corpus=tfidfFiltered, id2word=dictionaryFiltered, num_topics=4)"
   ]
  },
  {
   "cell_type": "code",
   "execution_count": 15,
   "metadata": {},
   "outputs": [
    {
     "name": "stderr",
     "output_type": "stream",
     "text": [
      "C:\\Users\\echemochek\\AppData\\Local\\Packages\\PythonSoftwareFoundation.Python.3.9_qbz5n2kfra8p0\\LocalCache\\local-packages\\Python39\\site-packages\\gensim\\topic_coherence\\direct_confirmation_measure.py:204: RuntimeWarning: divide by zero encountered in double_scalars\n",
      "  m_lr_i = np.log(numerator / denominator)\n",
      "C:\\Users\\echemochek\\AppData\\Local\\Packages\\PythonSoftwareFoundation.Python.3.9_qbz5n2kfra8p0\\LocalCache\\local-packages\\Python39\\site-packages\\gensim\\topic_coherence\\indirect_confirmation_measure.py:323: RuntimeWarning: invalid value encountered in double_scalars\n",
      "  return cv1.T.dot(cv2)[0, 0] / (_magnitude(cv1) * _magnitude(cv2))\n"
     ]
    },
    {
     "data": {
      "image/png": "[encoded data removed]",
      "text/plain": [
       "<Figure size 432x288 with 1 Axes>"
      ]
     },
     "metadata": {
      "needs_background": "light"
     },
     "output_type": "display_data"
    }
   ],
   "source": [
    "# Determining optimum number of topics using coherence values for tfidfNouns\n",
    "\n",
    "coherence_values = []\n",
    "model_list = []\n",
    "min_topics, max_topics, step = 1, 10, 1\n",
    "for i in range(min_topics, max_topics, step):\n",
    "    model = LsiModel(tfidfNouns, id2word=dictionaryNouns, num_topics=i)\n",
    "    model_list.append(model)\n",
    "    coherencemodel = CoherenceModel(model=model, texts=tokens, \\\n",
    "        dictionary=dictionaryNouns, coherence='c_v')\n",
    "    coherence_values.append(coherencemodel.get_coherence())\n",
    "\n",
    "\n",
    "import matplotlib.pyplot as plt\n",
    "x = range(min_topics, max_topics, step)\n",
    "plt.plot(x, coherence_values)\n",
    "plt.xlabel(\"Number of Topics\")\n",
    "plt.ylabel(\"Coherence Score\")\n",
    "plt.legend((\"coherence_values\"), loc=\"best\")\n",
    "plt.show()"
   ]
  },
  {
   "cell_type": "markdown",
   "metadata": {},
   "source": [
    "### LDA"
   ]
  },
  {
   "cell_type": "code",
   "execution_count": 16,
   "metadata": {},
   "outputs": [],
   "source": [
    "from gensim.models import LdaModel, LdaMulticore\n",
    "\n",
    "# tfidfLtd\n",
    "lda_Ltd = LdaModel(corpus=tfidfLtd, id2word=dictionaryLtd, num_topics=10)\n",
    "\n",
    "# tfidfFiltered\n",
    "lda_Filtered = LdaModel(corpus=tfidfFiltered, id2word=dictionaryFiltered, num_topics=10)\n",
    "\n",
    "# tfidfNouns\n",
    "lda_Nouns = LdaModel(corpus=tfidfNouns, id2word=dictionaryNouns, num_topics=10)"
   ]
  },
  {
   "cell_type": "code",
   "execution_count": 17,
   "metadata": {},
   "outputs": [
    {
     "data": {
      "image/png": "[encoded data removed]",
      "text/plain": [
       "<Figure size 432x288 with 1 Axes>"
      ]
     },
     "metadata": {
      "needs_background": "light"
     },
     "output_type": "display_data"
    }
   ],
   "source": [
    "# Determining optimum number of topics using coherence values for tfidfLtd \n",
    "\n",
    "coherence_values = []\n",
    "model_list = []\n",
    "min_topics, max_topics, step = 1, 10, 1\n",
    "for i in range(min_topics, max_topics, step):\n",
    "    model = LdaModel(tfidfLtd, id2word=dictionaryLtd, num_topics=i)\n",
    "    model_list.append(model)\n",
    "    coherencemodel = CoherenceModel(model=model, texts=tokens, \\\n",
    "        dictionary=dictionaryLtd, coherence='c_v')\n",
    "    coherence_values.append(coherencemodel.get_coherence())\n",
    "\n",
    "\n",
    "import matplotlib.pyplot as plt\n",
    "x = range(min_topics, max_topics, step)\n",
    "plt.plot(x, coherence_values)\n",
    "plt.xlabel(\"Number of Topics\")\n",
    "plt.ylabel(\"Coherence Score\")\n",
    "plt.legend((\"coherence_values\"), loc=\"best\")\n",
    "plt.show()"
   ]
  },
  {
   "cell_type": "markdown",
   "metadata": {},
   "source": [
    "For TFIDF using unfiltered data the best model is when topics = 4"
   ]
  },
  {
   "cell_type": "code",
   "execution_count": 18,
   "metadata": {},
   "outputs": [],
   "source": [
    "# tfidfLtd with the optimum number of topics\n",
    "lda_Ltd = LdaModel(corpus=tfidfLtd, id2word=dictionaryLtd, num_topics=7)"
   ]
  },
  {
   "cell_type": "code",
   "execution_count": 19,
   "metadata": {},
   "outputs": [
    {
     "data": {
      "image/png": "[encoded data removed]",
      "text/plain": [
       "<Figure size 432x288 with 1 Axes>"
      ]
     },
     "metadata": {
      "needs_background": "light"
     },
     "output_type": "display_data"
    }
   ],
   "source": [
    "# Determining optimum number of topics using coherence values for tfidfFiltered\n",
    "\n",
    "coherence_values = []\n",
    "model_list = []\n",
    "min_topics, max_topics, step = 1, 10, 1\n",
    "\n",
    "for i in range(min_topics, max_topics, step):\n",
    "    model = LdaModel(tfidfFiltered, id2word=dictionaryFiltered, num_topics=i)\n",
    "    model_list.append(model)\n",
    "    coherencemodel = CoherenceModel(model=model, texts=tokens, \\\n",
    "        dictionary=dictionaryFiltered, coherence='c_v')\n",
    "    coherence_values.append(coherencemodel.get_coherence())\n",
    "\n",
    "\n",
    "import matplotlib.pyplot as plt\n",
    "x = range(min_topics, max_topics, step)\n",
    "plt.plot(x, coherence_values)\n",
    "plt.xlabel(\"Number of Topics\")\n",
    "plt.ylabel(\"Coherence Score\")\n",
    "plt.legend((\"coherence_values\"), loc=\"best\")\n",
    "plt.show()"
   ]
  },
  {
   "cell_type": "markdown",
   "metadata": {},
   "source": [
    "For TFIDF using unfiltered data the best model is when topics = 7"
   ]
  },
  {
   "cell_type": "code",
   "execution_count": 20,
   "metadata": {},
   "outputs": [],
   "source": [
    "# tfidfFiltered with the optimum number of topics\n",
    "lda_Filtered = LdaModel(corpus=tfidfFiltered, id2word=dictionaryFiltered, num_topics=8)"
   ]
  },
  {
   "cell_type": "code",
   "execution_count": 21,
   "metadata": {},
   "outputs": [
    {
     "data": {
      "image/png": "[encoded data removed]",
      "text/plain": [
       "<Figure size 432x288 with 1 Axes>"
      ]
     },
     "metadata": {
      "needs_background": "light"
     },
     "output_type": "display_data"
    }
   ],
   "source": [
    "# Determining optimum number of topics using coherence values for tfidfFiltered\n",
    "\n",
    "coherence_values = []\n",
    "model_list = []\n",
    "min_topics, max_topics, step = 1, 10, 1\n",
    "for i in range(min_topics, max_topics, step):\n",
    "    model = LdaModel(tfidfNouns, id2word=dictionaryNouns, num_topics=i)\n",
    "    model_list.append(model)\n",
    "    coherencemodel = CoherenceModel(model=model, texts=tokens, \\\n",
    "        dictionary=dictionaryNouns, coherence='c_v')\n",
    "    coherence_values.append(coherencemodel.get_coherence())\n",
    "\n",
    "\n",
    "import matplotlib.pyplot as plt\n",
    "x = range(min_topics, max_topics, step)\n",
    "plt.plot(x, coherence_values)\n",
    "plt.xlabel(\"Number of Topics\")\n",
    "plt.ylabel(\"Coherence Score\")\n",
    "plt.legend((\"coherence_values\"), loc=\"best\")\n",
    "plt.show()"
   ]
  },
  {
   "cell_type": "markdown",
   "metadata": {},
   "source": [
    "### LDA Interactive"
   ]
  },
  {
   "cell_type": "code",
   "execution_count": 22,
   "metadata": {},
   "outputs": [
    {
     "name": "stderr",
     "output_type": "stream",
     "text": [
      "C:\\Users\\echemochek\\AppData\\Local\\Packages\\PythonSoftwareFoundation.Python.3.9_qbz5n2kfra8p0\\LocalCache\\local-packages\\Python39\\site-packages\\past\\builtins\\misc.py:45: DeprecationWarning: the imp module is deprecated in favour of importlib; see the module's documentation for alternative uses\n",
      "  from imp import reload\n",
      "C:\\Users\\echemochek\\AppData\\Local\\Packages\\PythonSoftwareFoundation.Python.3.9_qbz5n2kfra8p0\\LocalCache\\local-packages\\Python39\\site-packages\\pyLDAvis\\_prepare.py:246: FutureWarning: In a future version of pandas all arguments of DataFrame.drop except for the argument 'labels' will be keyword-only.\n",
      "  default_term_info = default_term_info.sort_values(\n"
     ]
    },
    {
     "data": {
      "text/html": [
       "\n",
       "<link rel=\"stylesheet\" type=\"text/css\" href=\"https://cdn.jsdelivr.net/gh/bmabey/pyLDAvis@3.3.1/pyLDAvis/js/ldavis.v1.0.0.css\">\n",
       "\n",
       "\n",
       "<div id=\"ldavis_el344427083075172166394267984\"></div>\n",
       "<script type=\"text/javascript\">\n",
       "\n",
       "var ldavis_el344427083075172166394267984_data = {\"mdsDat\": {\"x\": [-0.01223511265541167, 0.0022071729429995295, 0.003926867341964123, 0.00407397399787032, 0.0017088024642188612, -0.0005992125068308952, 0.0009175084151897321], \"y\": [-0.0011313562679585566, 0.00913643779318687, -0.007935130894801296, -0.0008125505187457372, -0.00015672484576089381, 6.248996869316137e-05, 0.0008368347653864532], \"topics\": [1, 2, 3, 4, 5, 6, 7], \"cluster\": [1, 1, 1, 1, 1, 1, 1], \"Freq\": [20.401895024772525, 17.048197189476678, 15.422613941279629, 14.086405460435216, 12.742041884585579, 10.585544240133645, 9.71330225931671]}, \"tinfo\": {\"Term\": [\"hague\", \"fox\", \"human\", \"howard\", \"fiat\", \"sayeed\", \"virgin\", \"blue\", \"pension\", \"bates\", \"yukos\", \"argonaut\", \"phone\", \"tobacco\", \"hendrix\", \"cell\", \"federer\", \"jamieson\", \"firefox\", \"pop\", \"vioxx\", \"break\", \"ice\", \"price\", \"ranieri\", \"ranger\", \"lord\", \"drug\", \"party\", \"mobile\", \"ukraine\", \"panda\", \"dicaprio\", \"student\", \"ufj\", \"hingis\", \"farrell\", \"rugby\", \"sumitomo\", \"japanese\", \"nintendo\", \"bonus\", \"japan\", \"console\", \"roddick\", \"hague\", \"yushchenko\", \"lion\", \"parliament\", \"rochus\", \"johansson\", \"dent\", \"sony\", \"election\", \"award\", \"tuc\", \"submission\", \"with-profits\", \"reserve\", \"gamble\", \"lewsey\", \"ball\", \"player\", \"star\", \"party\", \"film\", \"union\", \"life\", \"say\", \"solskjaer\", \"pernod\", \"ntpc\", \"singapore\", \"scholl\", \"debt\", \"blog\", \"khodorkovsky\", \"indonesia\", \"wilkinson\", \"hutt\", \"gibbon\", \"aynsley-green\", \"lebedev\", \"waiting\", \"music\", \"payment\", \"india\", \"creditor\", \"msn\", \"credit\", \"economy\", \"domecq\", \"paris\", \"insulation\", \"allied\", \"kapranos\", \"aid\", \"pensioner\", \"card\", \"child\", \"quarter\", \"power\", \"growth\", \"government\", \"england\", \"health\", \"firm\", \"ireland\", \"film\", \"share\", \"people\", \"money\", \"henman\", \"broadband\", \"e-mail\", \"fbi\", \"west\", \"titan\", \"benin\", \"immunisation\", \"6-4\", \"traffic\", \"sound\", \"connors\", \"starring\", \"practice\", \"audio\", \"kerekou\", \"bandwidth\", \"atp\", \"gaming\", \"sonaptic\", \"jimmy\", \"lta\", \"recipient\", \"attachment\", \"connection\", \"slovakia\", \"hopman\", \"hip-hop\", \"virus\", \"rapper\", \"crude\", \"technology\", \"left\", \"mobile\", \"film\", \"phone\", \"match\", \"moya\", \"network\", \"price\", \"fiat\", \"human\", \"argonaut\", \"hendrix\", \"ice\", \"worldcom\", \"lord\", \"ebbers\", \"prince\", \"gorge\", \"dam\", \"parker\", \"bowles\", \"celebrity\", \"straw\", \"right\", \"charles\", \"clarke\", \"goldsmith\", \"accounting\", \"bus\", \"project\", \"terror\", \"answer\", \"seattle\", \"construction\", \"mr\", \"suspect\", \"amnesty\", \"khan\", \"house\", \"power\", \"foreign\", \"war\", \"law\", \"sayeed\", \"tobacco\", \"firefox\", \"ferguson\", \"pop\", \"journalist\", \"hill\", \"ranger\", \"browser\", \"halloween\", \"carpenter\", \"robinson\", \"price\", \"marketing\", \"dollar\", \"telegraph\", \"tps\", \"smoking\", \"280bn\", \"williams\", \"mortgage\", \"nationwide\", \"opec\", \"colour\", \"page\", \"kirwan\", \"intention\", \"program\", \"explorer\", \"format\", \"victory\", \"crude\", \"oil\", \"bbc\", \"barrel\", \"show\", \"party\", \"howard\", \"cell\", \"federer\", \"jamieson\", \"ranieri\", \"yukos\", \"break\", \"valencia\", \"champion\", \"hague\", \"indoor\", \"scott\", \"roger\", \"technical\", \"uefa\", \"stem\", \"recession\", \"dorival\", \"kronberg\", \"vivancos\", \"disappointed\", \"medal\", \"ljubicic\", \"mongrel\", \"hain\", \"rattled\", \"tissue\", \"jose\", \"madrid\", \"celtic\", \"spanish\", \"hodgson\", \"football\", \"party\", \"club\", \"ambition\", \"chance\", \"league\", \"match\", \"start\", \"leader\", \"quarter\", \"week\", \"really\", \"fox\", \"virgin\", \"blue\", \"bates\", \"pension\", \"vioxx\", \"drug\", \"gig\", \"merck\", \"pupil\", \"truant\", \"leeds\", \"phone\", \"connor\", \"fda\", \"worker\", \"corp\", \"hamstring\", \"easterby\", \"horgan\", \"cole\", \"truancy\", \"attendance\", \"airline\", \"inhibitor\", \"cox-2\", \"strike\", \"school\", \"video\", \"jeffrey\", \"mobile\", \"villa\", \"driscoll\", \"share\", \"kasabian\", \"rate\", \"club\", \"bank\", \"news\", \"chelsea\"], \"Freq\": [0.0, 0.0, 0.0, 0.0, 0.0, 0.0, 0.0, 0.0, 0.0, 0.0, 0.0, 0.0, 0.0, 0.0, 0.0, 0.0, 0.0, 0.0, 0.0, 0.0, 0.0, 0.0, 0.0, 0.0, 0.0, 0.0, 0.0, 0.0, 0.0, 0.0, 0.13987074719678236, 0.13665140513840618, 0.1383799319297127, 0.13558123419415397, 0.12770876514488289, 0.12485786344013551, 0.12008458809683076, 0.1603553220187068, 0.10515006241454315, 0.114070916007187, 0.10492014812851579, 0.10691624111014468, 0.13241069784339388, 0.10643766997886449, 0.09651258839506097, 0.15438107393295114, 0.09255807518432871, 0.0916427231998189, 0.1057750193963258, 0.09002810071588549, 0.09001298574876816, 0.08999733915177292, 0.08921561390069549, 0.12062699650992233, 0.12008429622160367, 0.08671174662890423, 0.08637332251514737, 0.0855496975328092, 0.08327316457852008, 0.08254500364367187, 0.09811064695985686, 0.10831700244554086, 0.11667408861293908, 0.09959910637687927, 0.13157433980427377, 0.11840463768260474, 0.0978773135640264, 0.09768160080014521, 0.09230358083453401, 0.11575038129246569, 0.11485443699601165, 0.09899803387869972, 0.09842037423562301, 0.09511917702901361, 0.1125946072464511, 0.08820679043614534, 0.09454860779939746, 0.08483521172982907, 0.09063445567287814, 0.08025867213255375, 0.08024349829932487, 0.07944891033091404, 0.07908590555136161, 0.08384189184114448, 0.1178541348400773, 0.07621177945231751, 0.09658946223693689, 0.07765263160485594, 0.0750862242236515, 0.074291775624547, 0.10589099587449544, 0.07385387726399462, 0.07777481493361686, 0.07065552589489003, 0.07056937388711149, 0.06972930361663142, 0.07190145265133441, 0.07704265570386927, 0.08564559198276571, 0.10840299696273344, 0.09383145690182747, 0.091988071350223, 0.09369467463822637, 0.10119946788889955, 0.09323509563995488, 0.07952443107379256, 0.08720247779342236, 0.0812284647402101, 0.08996138902902305, 0.08264481402657585, 0.08257835228861009, 0.0801503386286114, 0.0988215863544639, 0.10695400723716937, 0.0843738902980946, 0.08436603392966797, 0.10011088969735019, 0.07995122767441691, 0.0799453728281371, 0.0759860153013931, 0.07547959079821022, 0.07489550881173315, 0.07757406552471055, 0.07402345191637878, 0.07619247152283476, 0.07120069104873031, 0.07022899932650921, 0.06812312222777887, 0.06585399105394482, 0.06434992990071271, 0.0643122477002954, 0.06404550547419191, 0.06337753685773939, 0.06334311698082117, 0.06314515934849496, 0.06314164880472961, 0.06422611526791111, 0.0608177594521628, 0.06080814190184717, 0.060338587958211065, 0.06581053674733642, 0.058901270476567166, 0.07881041521079958, 0.08358495961190007, 0.06847337284345212, 0.07256202554887607, 0.11491547133650931, 0.07396627457505128, 0.07790309527762264, 0.07012549541549255, 0.06990045813412114, 0.06573496352627779, 0.1190528236985317, 0.12931363012346195, 0.10745440849804248, 0.10312924146448563, 0.09578866986569955, 0.08473648563988477, 0.09436570845187321, 0.07651903245889903, 0.0731163994052592, 0.0713702725634167, 0.07132201474744716, 0.07043144392349147, 0.07042213783012106, 0.06928783084840126, 0.06898478184031574, 0.09527479789782585, 0.06398004687479113, 0.060835731684382124, 0.06063147984852835, 0.06017728059537552, 0.05903397340502486, 0.07022710572018183, 0.060810166917443446, 0.0647349488201449, 0.05651931655302049, 0.05646264510739124, 0.057272487550612795, 0.05390847154568057, 0.05311174975846386, 0.05377886638220981, 0.06829830451187806, 0.06556363736196694, 0.05792094520524598, 0.061639719133824225, 0.05782555594887726, 0.10301543212641104, 0.08968013915789115, 0.08425839458022066, 0.07410903784504086, 0.0850722142082176, 0.06677016253054394, 0.06897360116222426, 0.07359623961764786, 0.0638130994364264, 0.0629795923564878, 0.06297265226926234, 0.07055786812825937, 0.09560571714108834, 0.0575562527306276, 0.054006440432407564, 0.06180266163570189, 0.057063630235234336, 0.0485703208898273, 0.04856431504511295, 0.05737252271037448, 0.048700323827690045, 0.0518444470120568, 0.04574642804354922, 0.04574259341749312, 0.04931263353091909, 0.04503804761129338, 0.0463576602754501, 0.043324275753054774, 0.04331516770237145, 0.04309179585180326, 0.05634665932915674, 0.05741334943363047, 0.06024801699319011, 0.058451595597121035, 0.04946736948132361, 0.05032323327752135, 0.054964429630352245, 0.08676513469167864, 0.06866522739919213, 0.06814609189470448, 0.06693758095887417, 0.06081737013314156, 0.07320864742191269, 0.069238140244915, 0.05391257153420721, 0.05180687195348896, 0.08747852955100337, 0.04202921239040228, 0.04429205506283516, 0.04153243318079503, 0.03958295453181146, 0.03948417524269859, 0.045626144717107575, 0.044306706859818586, 0.037974012526448726, 0.037963198104865724, 0.03795974203315202, 0.037958584600684526, 0.03795444164147843, 0.045066185379607424, 0.03680938126168763, 0.03680540326365097, 0.036787509033189676, 0.03508353046426317, 0.03445077998253954, 0.03444613673126221, 0.034441566495584476, 0.039047038960826556, 0.04596035604637917, 0.04226911190354304, 0.07060629573281609, 0.051921609207533394, 0.04153679789108135, 0.0386528764157326, 0.04222075664664739, 0.041670327197033834, 0.039735960072882916, 0.03973373444923631, 0.0395719291762741, 0.039279431388617364, 0.0391480952549339, 0.08253457473825936, 0.0710937532494769, 0.07109114276362768, 0.06415265996668637, 0.07244277392250999, 0.055391149836147145, 0.05305918198287314, 0.04916125017153546, 0.04614753359084937, 0.04609553231570124, 0.04609407322285016, 0.04832729920073313, 0.060038052866964245, 0.04055035911901405, 0.036934563258325, 0.03899186680818607, 0.044393708946759515, 0.03480980644150689, 0.034803416706657375, 0.03480039678148772, 0.04008468516898308, 0.03320897314204307, 0.033190347375138034, 0.032924876845557116, 0.03231201814489929, 0.032303819432688494, 0.03480197994686014, 0.04289329994607623, 0.036810401404759815, 0.031511509681501584, 0.04439352531942792, 0.03729658206111948, 0.03778893408469109, 0.049286126682823624, 0.03919238785429078, 0.04868925844871736, 0.0437494797498036, 0.041322574084643154, 0.03735046179424085, 0.03621900973174593], \"Total\": [0.0, 0.0, 0.0, 0.0, 0.0, 0.0, 0.0, 0.0, 0.0, 0.0, 0.0, 0.0, 0.0, 0.0, 0.0, 0.0, 0.0, 0.0, 0.0, 0.0, 0.0, 0.0, 0.0, 0.0, 0.0, 0.0, 0.0, 0.0, 0.0, 0.0, 0.24893558779709407, 0.24571934954637187, 0.24897844410421952, 0.24466281343626167, 0.2367762901030623, 0.23392739360398243, 0.22914796116387448, 0.3178564083118027, 0.2142169946286245, 0.23256022648180538, 0.21399100570591054, 0.22016554834413732, 0.27426655127224514, 0.2207663672186354, 0.2080934930465161, 0.3360633327334814, 0.20161373171216845, 0.20069419507208267, 0.23223836251865004, 0.19909264610219948, 0.1990811114645121, 0.19906907381751168, 0.1982794135483174, 0.2712096681435594, 0.2717525914952245, 0.19643474014861823, 0.1963638608914402, 0.19462022241292126, 0.1923271810641317, 0.19160841842171017, 0.22837709224159333, 0.2531590604050178, 0.2907835579083197, 0.24373448607600467, 0.3903185435472392, 0.42313580277007645, 0.25722513049460694, 0.27431862417324215, 0.2633608067541848, 0.22857947028267744, 0.22767454062530876, 0.21182523371471254, 0.21124113708026826, 0.20792379196102087, 0.252600842103299, 0.20101132042966582, 0.21708272291420277, 0.19764359562137812, 0.21271127045389893, 0.1930642733181714, 0.19305226702119413, 0.1922670895889415, 0.19188809753610106, 0.20686137031710491, 0.29171778156872485, 0.18903156404086993, 0.23974193166863914, 0.19429042081517545, 0.18788900347790477, 0.1870944435964393, 0.26761321816663086, 0.18665945505051965, 0.20100290268561813, 0.18346268322233264, 0.18337725398785995, 0.1825237496507188, 0.1931245327219554, 0.20703686458129283, 0.2311346021096783, 0.2965000105947788, 0.25900514522804563, 0.25490538615146646, 0.2743585868476666, 0.3296948139365847, 0.30782174329572565, 0.21848380236657133, 0.2891315724523325, 0.2486279402593561, 0.42313580277007645, 0.2958370722376423, 0.3335986621305249, 0.2564920419523567, 0.22028346991720008, 0.23868382546548259, 0.19907643138871473, 0.19907119486956745, 0.23906238395203724, 0.19464418556930607, 0.19464253995449338, 0.1906708718544894, 0.19016779536422676, 0.18957434513148477, 0.19727754196959685, 0.1887104736733105, 0.19468923177241879, 0.18588669205212455, 0.18491356912059015, 0.18280680689023576, 0.18053570563331142, 0.17903106591090673, 0.1789967209892323, 0.17872802737874594, 0.17805860524552736, 0.17802857399946168, 0.17783789049918092, 0.17783456921718918, 0.18396178178194866, 0.17549892389726376, 0.17549242885864177, 0.17501527369975367, 0.1933684732074514, 0.17357934918472717, 0.23320801860936244, 0.24798820935325686, 0.20476238374294373, 0.22233313923123688, 0.42313580277007645, 0.24410771868633585, 0.28963576841626737, 0.23600778882623166, 0.25039781289908325, 0.3078851518891875, 0.23528766321972594, 0.25701103080298715, 0.22366771641785718, 0.21933887795466628, 0.22070926296063098, 0.20094458342437055, 0.22915081504315024, 0.19273202623271968, 0.18932649363002882, 0.18756021478798784, 0.1875272426798249, 0.18662111117639082, 0.1866145485030478, 0.1854857962613643, 0.18518205092959947, 0.27029326171230467, 0.18500480436282357, 0.1770232442465764, 0.17682091538422565, 0.1763689815874023, 0.17522475695920653, 0.2126947694032696, 0.1842700811275587, 0.19669007725921384, 0.17270633291798557, 0.17264913961920514, 0.17810805828012585, 0.17009140518291793, 0.16929943768962116, 0.17557171239573513, 0.22452505296457065, 0.25490538615146646, 0.20397432229154233, 0.2437038044259484, 0.21284998026690363, 0.22075106856761487, 0.20739819016701957, 0.20197628906202028, 0.19181248603201453, 0.2294511711705964, 0.18446540872184752, 0.19283793193312904, 0.20795857893396247, 0.18150976805776628, 0.18067696152732982, 0.18067139258338638, 0.22516403617313563, 0.3078851518891875, 0.1857849789963892, 0.17521617137719622, 0.2023145977224996, 0.19105437931115252, 0.16626117425003423, 0.1662560632473557, 0.19858517645421847, 0.16935454037093323, 0.1812087545513932, 0.16343593580982044, 0.16343044336127552, 0.1769932926343029, 0.16272695413191057, 0.1718323690006992, 0.1610113087927055, 0.1610047775388052, 0.16077938553601034, 0.22035734960327336, 0.23320801860936244, 0.26094106818236706, 0.2535508373956297, 0.20202701528331138, 0.2516806747940372, 0.3903185435472392, 0.23078984465325653, 0.18916609876603335, 0.1886495708606003, 0.18767843686420035, 0.18131520709314494, 0.22969492385555104, 0.23542845991639164, 0.18467569302532738, 0.1895176746836224, 0.3360633327334814, 0.16251746953565516, 0.17173874058007868, 0.16201951162584616, 0.16006676219967458, 0.1599693682516754, 0.1851030464648088, 0.18466695702644756, 0.1584563530423212, 0.1584497789962604, 0.15844757895793576, 0.1584459549892623, 0.15844401317558904, 0.19158395122875047, 0.15728771490160434, 0.1572845871615499, 0.15727325020950209, 0.155561631681452, 0.1549355859881026, 0.1549316070023022, 0.15500153631062807, 0.1786790173463715, 0.21824293553271676, 0.1988775978785823, 0.3903185435472392, 0.2884073876758872, 0.2038777204337402, 0.18372621250491045, 0.25465803153286054, 0.28963576841626737, 0.21150685118933882, 0.22794627124467423, 0.25900514522804563, 0.2469653741304647, 0.23433852209904202, 0.20412749983087375, 0.1926890922093836, 0.1926858786755844, 0.1857214413310922, 0.22862537584265086, 0.17695588559932654, 0.18254250476421457, 0.17496917214905872, 0.1677122035201409, 0.16766358760045108, 0.16766115340621063, 0.18368348927368416, 0.24410771868633585, 0.16999745025279545, 0.15848633792588973, 0.16750860744546456, 0.191958083365906, 0.15636416696424615, 0.15635967373183218, 0.15635872293220848, 0.18181825590056297, 0.15476059236158504, 0.15474819131202658, 0.15448938001205648, 0.1538637741075449, 0.15385934807372237, 0.1682576657230922, 0.20956993394273987, 0.1809067719854192, 0.1576719138702734, 0.22233313923123688, 0.1873336687909387, 0.1912754054375666, 0.2958370722376423, 0.20445815226432867, 0.2947515944260231, 0.2884073876758872, 0.27795875563317785, 0.22150805759001657, 0.19513494173439117], \"Category\": [\"Default\", \"Default\", \"Default\", \"Default\", \"Default\", \"Default\", \"Default\", \"Default\", \"Default\", \"Default\", \"Default\", \"Default\", \"Default\", \"Default\", \"Default\", \"Default\", \"Default\", \"Default\", \"Default\", \"Default\", \"Default\", \"Default\", \"Default\", \"Default\", \"Default\", \"Default\", \"Default\", \"Default\", \"Default\", \"Default\", \"Topic1\", \"Topic1\", \"Topic1\", \"Topic1\", \"Topic1\", \"Topic1\", \"Topic1\", \"Topic1\", \"Topic1\", \"Topic1\", \"Topic1\", \"Topic1\", \"Topic1\", \"Topic1\", \"Topic1\", \"Topic1\", \"Topic1\", \"Topic1\", \"Topic1\", \"Topic1\", \"Topic1\", \"Topic1\", \"Topic1\", \"Topic1\", \"Topic1\", \"Topic1\", \"Topic1\", \"Topic1\", \"Topic1\", \"Topic1\", \"Topic1\", \"Topic1\", \"Topic1\", \"Topic1\", \"Topic1\", \"Topic1\", \"Topic1\", \"Topic1\", \"Topic1\", \"Topic2\", \"Topic2\", \"Topic2\", \"Topic2\", \"Topic2\", \"Topic2\", \"Topic2\", \"Topic2\", \"Topic2\", \"Topic2\", \"Topic2\", \"Topic2\", \"Topic2\", \"Topic2\", \"Topic2\", \"Topic2\", \"Topic2\", \"Topic2\", \"Topic2\", \"Topic2\", \"Topic2\", \"Topic2\", \"Topic2\", \"Topic2\", \"Topic2\", \"Topic2\", \"Topic2\", \"Topic2\", \"Topic2\", \"Topic2\", \"Topic2\", \"Topic2\", \"Topic2\", \"Topic2\", \"Topic2\", \"Topic2\", \"Topic2\", \"Topic2\", \"Topic2\", \"Topic2\", \"Topic2\", \"Topic2\", \"Topic2\", \"Topic3\", \"Topic3\", \"Topic3\", \"Topic3\", \"Topic3\", \"Topic3\", \"Topic3\", \"Topic3\", \"Topic3\", \"Topic3\", \"Topic3\", \"Topic3\", \"Topic3\", \"Topic3\", \"Topic3\", \"Topic3\", \"Topic3\", \"Topic3\", \"Topic3\", \"Topic3\", \"Topic3\", \"Topic3\", \"Topic3\", \"Topic3\", \"Topic3\", \"Topic3\", \"Topic3\", \"Topic3\", \"Topic3\", \"Topic3\", \"Topic3\", \"Topic3\", \"Topic3\", \"Topic3\", \"Topic3\", \"Topic3\", \"Topic3\", \"Topic3\", \"Topic3\", \"Topic3\", \"Topic4\", \"Topic4\", \"Topic4\", \"Topic4\", \"Topic4\", \"Topic4\", \"Topic4\", \"Topic4\", \"Topic4\", \"Topic4\", \"Topic4\", \"Topic4\", \"Topic4\", \"Topic4\", \"Topic4\", \"Topic4\", \"Topic4\", \"Topic4\", \"Topic4\", \"Topic4\", \"Topic4\", \"Topic4\", \"Topic4\", \"Topic4\", \"Topic4\", \"Topic4\", \"Topic4\", \"Topic4\", \"Topic4\", \"Topic4\", \"Topic4\", \"Topic4\", \"Topic4\", \"Topic4\", \"Topic4\", \"Topic5\", \"Topic5\", \"Topic5\", \"Topic5\", \"Topic5\", \"Topic5\", \"Topic5\", \"Topic5\", \"Topic5\", \"Topic5\", \"Topic5\", \"Topic5\", \"Topic5\", \"Topic5\", \"Topic5\", \"Topic5\", \"Topic5\", \"Topic5\", \"Topic5\", \"Topic5\", \"Topic5\", \"Topic5\", \"Topic5\", \"Topic5\", \"Topic5\", \"Topic5\", \"Topic5\", \"Topic5\", \"Topic5\", \"Topic5\", \"Topic5\", \"Topic5\", \"Topic5\", \"Topic5\", \"Topic5\", \"Topic5\", \"Topic5\", \"Topic6\", \"Topic6\", \"Topic6\", \"Topic6\", \"Topic6\", \"Topic6\", \"Topic6\", \"Topic6\", \"Topic6\", \"Topic6\", \"Topic6\", \"Topic6\", \"Topic6\", \"Topic6\", \"Topic6\", \"Topic6\", \"Topic6\", \"Topic6\", \"Topic6\", \"Topic6\", \"Topic6\", \"Topic6\", \"Topic6\", \"Topic6\", \"Topic6\", \"Topic6\", \"Topic6\", \"Topic6\", \"Topic6\", \"Topic6\", \"Topic6\", \"Topic6\", \"Topic6\", \"Topic6\", \"Topic6\", \"Topic6\", \"Topic6\", \"Topic6\", \"Topic6\", \"Topic6\", \"Topic6\", \"Topic6\", \"Topic6\", \"Topic6\", \"Topic7\", \"Topic7\", \"Topic7\", \"Topic7\", \"Topic7\", \"Topic7\", \"Topic7\", \"Topic7\", \"Topic7\", \"Topic7\", \"Topic7\", \"Topic7\", \"Topic7\", \"Topic7\", \"Topic7\", \"Topic7\", \"Topic7\", \"Topic7\", \"Topic7\", \"Topic7\", \"Topic7\", \"Topic7\", \"Topic7\", \"Topic7\", \"Topic7\", \"Topic7\", \"Topic7\", \"Topic7\", \"Topic7\", \"Topic7\", \"Topic7\", \"Topic7\", \"Topic7\", \"Topic7\", \"Topic7\", \"Topic7\", \"Topic7\", \"Topic7\", \"Topic7\", \"Topic7\"], \"logprob\": [30.0, 29.0, 28.0, 27.0, 26.0, 25.0, 24.0, 23.0, 22.0, 21.0, 20.0, 19.0, 18.0, 17.0, 16.0, 15.0, 14.0, 13.0, 12.0, 11.0, 10.0, 9.0, 8.0, 7.0, 6.0, 5.0, 4.0, 3.0, 2.0, 1.0, -7.1549, -7.1782, -7.1656, -7.186, -7.2459, -7.2684, -7.3074, -7.0182, -7.4402, -7.3588, -7.4424, -7.4236, -7.2097, -7.4281, -7.5259, -7.0562, -7.5678, -7.5777, -7.4343, -7.5955, -7.5957, -7.5958, -7.6046, -7.3029, -7.3074, -7.633, -7.6369, -7.6465, -7.6735, -7.6823, -7.5095, -7.4106, -7.3362, -7.4945, -7.216, -7.3215, -7.5119, -7.5139, -7.5705, -7.1646, -7.1724, -7.3209, -7.3268, -7.3609, -7.1922, -7.4363, -7.3669, -7.4753, -7.4092, -7.5308, -7.531, -7.5409, -7.5455, -7.4871, -7.1466, -7.5825, -7.3456, -7.5638, -7.5974, -7.608, -7.2536, -7.6139, -7.5622, -7.6582, -7.6594, -7.6714, -7.6407, -7.5717, -7.4658, -7.2302, -7.3745, -7.3944, -7.376, -7.2989, -7.3809, -7.54, -7.4478, -7.5188, -7.4167, -7.5015, -7.5023, -7.5321, -7.2225, -7.1434, -7.3806, -7.3807, -7.2095, -7.4344, -7.4345, -7.4853, -7.492, -7.4997, -7.4646, -7.5114, -7.4826, -7.5503, -7.5641, -7.5945, -7.6284, -7.6515, -7.6521, -7.6562, -7.6667, -7.6673, -7.6704, -7.6704, -7.6534, -7.7079, -7.7081, -7.7159, -7.629, -7.74, -7.4488, -7.39, -7.5894, -7.5314, -7.0716, -7.5122, -7.4604, -7.5655, -7.5688, -7.6302, -6.9456, -6.863, -7.0481, -7.0892, -7.1631, -7.2857, -7.178, -7.3877, -7.4331, -7.4573, -7.458, -7.4706, -7.4707, -7.4869, -7.4913, -7.1684, -7.5666, -7.617, -7.6204, -7.6279, -7.6471, -7.4735, -7.6174, -7.5549, -7.6906, -7.6916, -7.6774, -7.7379, -7.7528, -7.7403, -7.5013, -7.5422, -7.6661, -7.6039, -7.6678, -6.99, -7.1286, -7.191, -7.3194, -7.1814, -7.4236, -7.3912, -7.3263, -7.4689, -7.4821, -7.4822, -7.3685, -7.0647, -7.5721, -7.6358, -7.5009, -7.5807, -7.7419, -7.742, -7.5753, -7.7392, -7.6766, -7.8018, -7.8019, -7.7267, -7.8174, -7.7885, -7.8562, -7.8564, -7.8616, -7.5934, -7.5746, -7.5264, -7.5567, -7.7236, -7.7064, -7.6182, -6.9763, -7.2102, -7.2178, -7.2357, -7.3316, -7.1462, -7.2019, -7.4521, -7.492, -6.9681, -7.7011, -7.6487, -7.713, -7.7611, -7.7636, -7.619, -7.6483, -7.8026, -7.8029, -7.803, -7.803, -7.8031, -7.6313, -7.8337, -7.8338, -7.8343, -7.8817, -7.8999, -7.9001, -7.9002, -7.7747, -7.6117, -7.6954, -7.1824, -7.4897, -7.7129, -7.7849, -7.6966, -7.7097, -7.7572, -7.7573, -7.7614, -7.7688, -7.7721, -6.9403, -7.0895, -7.0895, -7.1922, -7.0707, -7.3391, -7.3821, -7.4584, -7.5216, -7.5228, -7.5228, -7.4755, -7.2585, -7.6509, -7.7443, -7.6901, -7.5604, -7.8036, -7.8038, -7.8039, -7.6625, -7.8507, -7.8512, -7.8593, -7.878, -7.8783, -7.8038, -7.5948, -7.7477, -7.9031, -7.5604, -7.7346, -7.7215, -7.4558, -7.685, -7.468, -7.575, -7.6321, -7.7331, -7.7639], \"loglift\": [30.0, 29.0, 28.0, 27.0, 26.0, 25.0, 24.0, 23.0, 22.0, 21.0, 20.0, 19.0, 18.0, 17.0, 16.0, 15.0, 14.0, 13.0, 12.0, 11.0, 10.0, 9.0, 8.0, 7.0, 6.0, 5.0, 4.0, 3.0, 2.0, 1.0, 1.0131, 1.0028, 1.0022, 0.9992, 0.9722, 0.9617, 0.9434, 0.9053, 0.8779, 0.8772, 0.8768, 0.8672, 0.8614, 0.86, 0.8212, 0.8117, 0.811, 0.8057, 0.8031, 0.7959, 0.7958, 0.7957, 0.7909, 0.7794, 0.7728, 0.7718, 0.7683, 0.7676, 0.7525, 0.7474, 0.7446, 0.7406, 0.6763, 0.6946, 0.5022, 0.316, 0.6233, 0.557, 0.5411, 1.0887, 1.0849, 1.0085, 1.0054, 0.9871, 0.9611, 0.9454, 0.938, 0.9234, 0.916, 0.8914, 0.8912, 0.8854, 0.8827, 0.866, 0.8628, 0.8607, 0.86, 0.852, 0.8519, 0.8455, 0.842, 0.8419, 0.8196, 0.8149, 0.8142, 0.8069, 0.7811, 0.7806, 0.7763, 0.7629, 0.7538, 0.7499, 0.6947, 0.5881, 0.5747, 0.7585, 0.5705, 0.6504, 0.2208, 0.4939, 0.3729, 0.6059, 1.0677, 1.0666, 1.0109, 1.0108, 0.9989, 0.9796, 0.9795, 0.9493, 0.9453, 0.9406, 0.936, 0.9335, 0.9312, 0.9097, 0.9012, 0.8822, 0.8608, 0.8461, 0.8457, 0.8431, 0.8363, 0.836, 0.8339, 0.8339, 0.817, 0.8096, 0.8095, 0.8044, 0.7915, 0.7886, 0.7844, 0.7818, 0.7739, 0.7496, 0.5658, 0.6753, 0.5562, 0.6558, 0.5934, 0.3252, 1.2787, 1.2731, 1.2269, 1.2053, 1.1253, 1.0965, 1.0728, 1.0362, 1.0085, 0.9937, 0.9932, 0.9855, 0.9854, 0.9753, 0.9725, 0.9172, 0.8981, 0.8919, 0.8896, 0.8847, 0.872, 0.8518, 0.8513, 0.8486, 0.8429, 0.8423, 0.8254, 0.8109, 0.8007, 0.7768, 0.7699, 0.6021, 0.701, 0.5853, 0.6568, 1.2981, 1.2219, 1.186, 1.1093, 1.0681, 1.0441, 1.0321, 1.0215, 1.0149, 1.0064, 1.0063, 0.8999, 0.8908, 0.8884, 0.8833, 0.8744, 0.8519, 0.8297, 0.8296, 0.8186, 0.814, 0.8089, 0.787, 0.7869, 0.7823, 0.7757, 0.7501, 0.7475, 0.7473, 0.7436, 0.6965, 0.6586, 0.5944, 0.5929, 0.6532, 0.4506, 0.1, 1.2674, 1.2323, 1.2274, 1.2147, 1.1533, 1.1022, 1.0218, 1.0144, 0.9487, 0.8998, 0.8933, 0.8905, 0.8844, 0.8485, 0.8466, 0.8452, 0.8183, 0.8171, 0.8169, 0.8168, 0.8168, 0.8167, 0.7985, 0.7934, 0.7933, 0.7929, 0.7564, 0.7422, 0.7421, 0.7415, 0.7249, 0.6879, 0.697, 0.5358, 0.531, 0.6547, 0.6869, 0.4487, 0.3068, 0.5737, 0.4988, 0.367, 0.4071, 0.4563, 1.4261, 1.3346, 1.3346, 1.2687, 1.1824, 1.1702, 1.0961, 1.0622, 1.0413, 1.0404, 1.0404, 0.9965, 0.929, 0.8984, 0.8752, 0.874, 0.8675, 0.8294, 0.8292, 0.8291, 0.8197, 0.7926, 0.7921, 0.7858, 0.771, 0.7708, 0.7559, 0.7453, 0.7395, 0.7215, 0.7206, 0.7177, 0.71, 0.5395, 0.6798, 0.531, 0.4458, 0.4256, 0.5516, 0.6476]}, \"token.table\": {\"Topic\": [], \"Freq\": [], \"Term\": []}, \"R\": 30, \"lambda.step\": 0.01, \"plot.opts\": {\"xlab\": \"PC1\", \"ylab\": \"PC2\"}, \"topic.order\": [2, 3, 6, 7, 5, 1, 4]};\n",
       "\n",
       "function LDAvis_load_lib(url, callback){\n",
       "  var s = document.createElement('script');\n",
       "  s.src = url;\n",
       "  s.async = true;\n",
       "  s.onreadystatechange = s.onload = callback;\n",
       "  s.onerror = function(){console.warn(\"failed to load library \" + url);};\n",
       "  document.getElementsByTagName(\"head\")[0].appendChild(s);\n",
       "}\n",
       "\n",
       "if(typeof(LDAvis) !== \"undefined\"){\n",
       "   // already loaded: just create the visualization\n",
       "   !function(LDAvis){\n",
       "       new LDAvis(\"#\" + \"ldavis_el344427083075172166394267984\", ldavis_el344427083075172166394267984_data);\n",
       "   }(LDAvis);\n",
       "}else if(typeof define === \"function\" && define.amd){\n",
       "   // require.js is available: use it to load d3/LDAvis\n",
       "   require.config({paths: {d3: \"https://d3js.org/d3.v5\"}});\n",
       "   require([\"d3\"], function(d3){\n",
       "      window.d3 = d3;\n",
       "      LDAvis_load_lib(\"https://cdn.jsdelivr.net/gh/bmabey/pyLDAvis@3.3.1/pyLDAvis/js/ldavis.v3.0.0.js\", function(){\n",
       "        new LDAvis(\"#\" + \"ldavis_el344427083075172166394267984\", ldavis_el344427083075172166394267984_data);\n",
       "      });\n",
       "    });\n",
       "}else{\n",
       "    // require.js not available: dynamically load d3 & LDAvis\n",
       "    LDAvis_load_lib(\"https://d3js.org/d3.v5.js\", function(){\n",
       "         LDAvis_load_lib(\"https://cdn.jsdelivr.net/gh/bmabey/pyLDAvis@3.3.1/pyLDAvis/js/ldavis.v3.0.0.js\", function(){\n",
       "                 new LDAvis(\"#\" + \"ldavis_el344427083075172166394267984\", ldavis_el344427083075172166394267984_data);\n",
       "            })\n",
       "         });\n",
       "}\n",
       "</script>"
      ],
      "text/plain": [
       "PreparedData(topic_coordinates=              x         y  topics  cluster       Freq\n",
       "topic                                                \n",
       "1     -0.012235 -0.001131       1        1  20.401895\n",
       "2      0.002207  0.009136       2        1  17.048197\n",
       "5      0.003927 -0.007935       3        1  15.422614\n",
       "6      0.004074 -0.000813       4        1  14.086405\n",
       "4      0.001709 -0.000157       5        1  12.742042\n",
       "0     -0.000599  0.000062       6        1  10.585544\n",
       "3      0.000918  0.000837       7        1   9.713302, topic_info=         Term      Freq     Total Category  logprob  loglift\n",
       "1358    hague  0.000000  0.000000  Default  30.0000  30.0000\n",
       "4961      fox  0.000000  0.000000  Default  29.0000  29.0000\n",
       "786     human  0.000000  0.000000  Default  28.0000  28.0000\n",
       "785    howard  0.000000  0.000000  Default  27.0000  27.0000\n",
       "4303     fiat  0.000000  0.000000  Default  26.0000  26.0000\n",
       "...       ...       ...       ...      ...      ...      ...\n",
       "3019     rate  0.048689  0.294752   Topic7  -7.4680   0.5310\n",
       "387      club  0.043749  0.288407   Topic7  -7.5750   0.4458\n",
       "1483     bank  0.041323  0.277959   Topic7  -7.6321   0.4256\n",
       "151      news  0.037350  0.221508   Topic7  -7.7331   0.5516\n",
       "473   chelsea  0.036219  0.195135   Topic7  -7.7639   0.6476\n",
       "\n",
       "[308 rows x 6 columns], token_table=Empty DataFrame\n",
       "Columns: [Topic, Freq, Term]\n",
       "Index: [], R=30, lambda_step=0.01, plot_opts={'xlab': 'PC1', 'ylab': 'PC2'}, topic_order=[2, 3, 6, 7, 5, 1, 4])"
      ]
     },
     "execution_count": 22,
     "metadata": {},
     "output_type": "execute_result"
    }
   ],
   "source": [
    "# interacting with LDA output\n",
    "import pyLDAvis\n",
    "import pyLDAvis.gensim_models as gensimvis\n",
    "\n",
    "pyLDAvis.enable_notebook()\n",
    "\n",
    "vis = gensimvis.prepare(lda_Ltd, tfidfLtd, dictionaryLtd)\n",
    "vis"
   ]
  },
  {
   "cell_type": "markdown",
   "metadata": {},
   "source": [
    "### Top keywords"
   ]
  },
  {
   "cell_type": "code",
   "execution_count": 23,
   "metadata": {},
   "outputs": [],
   "source": [
    "# Add top keywords to dataframe as new column for each model\n",
    "keywords = []\n",
    "for i in range(len(tfidfLtd)):    \n",
    "    for index, score in sorted(lda_Ltd[tfidfLtd[i]], key=lambda tup: -1*tup[1]):\n",
    "        elements = lda_Ltd.print_topic(index, 5).split(\"+\")\n",
    "        keywords.append([x.strip().replace('\"', '').split(\"*\")[1] for x in elements])"
   ]
  },
  {
   "cell_type": "code",
   "execution_count": 24,
   "metadata": {},
   "outputs": [],
   "source": [
    "# Add top keywords to dataframe as new column for each model\n",
    "def addKeywords(model, corpus):\n",
    "    n = len(corpus)\n",
    "    keywords = []\n",
    "\n",
    "    for i in range(n):    \n",
    "        for index, score in sorted(model[corpus[i]], key=lambda tup: -1*tup[1]):\n",
    "            elements = model.print_topic(index, 5).split(\"+\")\n",
    "            keywords.append([x.strip().replace('\"', '').split(\"*\")[1] for x in elements])\n",
    "    \n",
    "    return keywords[:n]"
   ]
  },
  {
   "cell_type": "code",
   "execution_count": 29,
   "metadata": {},
   "outputs": [],
   "source": [
    "# add keywords to df\n",
    "df[\"LSI_Ltd\"] = addKeywords(lsi_Ltd, tfidfLtd)\n",
    "df[\"LSI_Filtered\"] = addKeywords(lsi_Filtered, tfidfFiltered)\n",
    "df[\"LSI_Nouns\"] = addKeywords(lsi_Nouns, tfidfNouns)\n",
    "df[\"LDA_Ltd\"] = addKeywords(lda_Ltd, tfidfLtd)\n",
    "df[\"LDA_Filtered\"] = addKeywords(lda_Filtered, tfidfFiltered)\n",
    "df[\"LDA_Nouns\"] = addKeywords(lda_Nouns, tfidfNouns)"
   ]
  },
  {
   "cell_type": "code",
   "execution_count": 32,
   "metadata": {},
   "outputs": [
    {
     "data": {
      "text/html": [
       "<div>\n",
       "<style scoped>\n",
       "    .dataframe tbody tr th:only-of-type {\n",
       "        vertical-align: middle;\n",
       "    }\n",
       "\n",
       "    .dataframe tbody tr th {\n",
       "        vertical-align: top;\n",
       "    }\n",
       "\n",
       "    .dataframe thead th {\n",
       "        text-align: right;\n",
       "    }\n",
       "</style>\n",
       "<table border=\"1\" class=\"dataframe\">\n",
       "  <thead>\n",
       "    <tr style=\"text-align: right;\">\n",
       "      <th></th>\n",
       "      <th>text</th>\n",
       "      <th>cleanTokens</th>\n",
       "      <th>nouns</th>\n",
       "      <th>LSI_Ltd</th>\n",
       "      <th>LSI_Filtered</th>\n",
       "      <th>LSI_Nouns</th>\n",
       "      <th>LDA_Ltd</th>\n",
       "      <th>LDA_Filtered</th>\n",
       "      <th>LDA_Nouns</th>\n",
       "    </tr>\n",
       "  </thead>\n",
       "  <tbody>\n",
       "    <tr>\n",
       "      <th>0</th>\n",
       "      <td>tv future in the hands of viewers with home th...</td>\n",
       "      <td>[future, hand, viewer, home, theatre, system, ...</td>\n",
       "      <td>[tv, future, hands, viewers, home, theatre, sy...</td>\n",
       "      <td>[party, hague, government, price, people]</td>\n",
       "      <td>[party, people, film, club, government]</td>\n",
       "      <td>[hague, %, i, growth, party]</td>\n",
       "      <td>[human, fiat, argonaut, hendrix, ice]</td>\n",
       "      <td>[club, show, technology, bbc, debt]</td>\n",
       "      <td>[hague, rates, growth, robinson, gorges]</td>\n",
       "    </tr>\n",
       "    <tr>\n",
       "      <th>1</th>\n",
       "      <td>worldcom boss  left books alone  former worldc...</td>\n",
       "      <td>[worldcom, bos, left, book, alone, former, wor...</td>\n",
       "      <td>[worldcom, boss, books, worldcom, bernie, ebbe...</td>\n",
       "      <td>[hague, party, front, ambition, leadership]</td>\n",
       "      <td>[film, party, match, award, cup]</td>\n",
       "      <td>[henman, moya, seed, ljubicic, federer]</td>\n",
       "      <td>[film, broadband, west, henman, e-mail]</td>\n",
       "      <td>[share, lord, news, quarter, economy]</td>\n",
       "      <td>[virgin, sayeed, ranieri, ebbers, vioxx]</td>\n",
       "    </tr>\n",
       "    <tr>\n",
       "      <th>2</th>\n",
       "      <td>tigers wary of farrell  gamble  leicester say ...</td>\n",
       "      <td>[tiger, wary, farrell, gamble, leicester, say,...</td>\n",
       "      <td>[tigers, farrell, leicester, bid, andy, farrel...</td>\n",
       "      <td>[party, hague, government, price, people]</td>\n",
       "      <td>[party, price, growth, rate, election]</td>\n",
       "      <td>[hague, parties, donations, government, people]</td>\n",
       "      <td>[rugby, hague, ukraine, dicaprio, panda]</td>\n",
       "      <td>[music, union, left, service, howard]</td>\n",
       "      <td>[hague, rates, growth, robinson, gorges]</td>\n",
       "    </tr>\n",
       "    <tr>\n",
       "      <th>3</th>\n",
       "      <td>yeading face newcastle in fa cup premiership s...</td>\n",
       "      <td>[yeading, face, newcastle, cup, premiership, s...</td>\n",
       "      <td>[face, newcastle, cup, side, face, trip, leagu...</td>\n",
       "      <td>[hague, party, front, ambition, leadership]</td>\n",
       "      <td>[film, match, cup, rugby, league]</td>\n",
       "      <td>[oil, barrel, prices, yukos, growth]</td>\n",
       "      <td>[music, solskjaer, pernod, debt, child]</td>\n",
       "      <td>[court, party, government, coach, cup]</td>\n",
       "      <td>[oil, prices, gm, barrel, wilkinson]</td>\n",
       "    </tr>\n",
       "    <tr>\n",
       "      <th>4</th>\n",
       "      <td>ocean s twelve raids box office ocean s twelve...</td>\n",
       "      <td>[ocean, twelve, raid, box, office, ocean, twel...</td>\n",
       "      <td>[s, twelve, raids, box, office, ocean, crime, ...</td>\n",
       "      <td>[party, hague, government, price, people]</td>\n",
       "      <td>[party, people, film, club, government]</td>\n",
       "      <td>[hague, party, growth, %, prices]</td>\n",
       "      <td>[fox, pension, virgin, blue, bates]</td>\n",
       "      <td>[ambition, rate, wale, policy, party]</td>\n",
       "      <td>[traffic, parker, yukos, audio, technology]</td>\n",
       "    </tr>\n",
       "  </tbody>\n",
       "</table>\n",
       "</div>"
      ],
      "text/plain": [
       "                                                text  \\\n",
       "0  tv future in the hands of viewers with home th...   \n",
       "1  worldcom boss  left books alone  former worldc...   \n",
       "2  tigers wary of farrell  gamble  leicester say ...   \n",
       "3  yeading face newcastle in fa cup premiership s...   \n",
       "4  ocean s twelve raids box office ocean s twelve...   \n",
       "\n",
       "                                         cleanTokens  \\\n",
       "0  [future, hand, viewer, home, theatre, system, ...   \n",
       "1  [worldcom, bos, left, book, alone, former, wor...   \n",
       "2  [tiger, wary, farrell, gamble, leicester, say,...   \n",
       "3  [yeading, face, newcastle, cup, premiership, s...   \n",
       "4  [ocean, twelve, raid, box, office, ocean, twel...   \n",
       "\n",
       "                                               nouns  \\\n",
       "0  [tv, future, hands, viewers, home, theatre, sy...   \n",
       "1  [worldcom, boss, books, worldcom, bernie, ebbe...   \n",
       "2  [tigers, farrell, leicester, bid, andy, farrel...   \n",
       "3  [face, newcastle, cup, side, face, trip, leagu...   \n",
       "4  [s, twelve, raids, box, office, ocean, crime, ...   \n",
       "\n",
       "                                       LSI_Ltd  \\\n",
       "0    [party, hague, government, price, people]   \n",
       "1  [hague, party, front, ambition, leadership]   \n",
       "2    [party, hague, government, price, people]   \n",
       "3  [hague, party, front, ambition, leadership]   \n",
       "4    [party, hague, government, price, people]   \n",
       "\n",
       "                              LSI_Filtered  \\\n",
       "0  [party, people, film, club, government]   \n",
       "1         [film, party, match, award, cup]   \n",
       "2   [party, price, growth, rate, election]   \n",
       "3        [film, match, cup, rugby, league]   \n",
       "4  [party, people, film, club, government]   \n",
       "\n",
       "                                         LSI_Nouns  \\\n",
       "0                     [hague, %, i, growth, party]   \n",
       "1          [henman, moya, seed, ljubicic, federer]   \n",
       "2  [hague, parties, donations, government, people]   \n",
       "3             [oil, barrel, prices, yukos, growth]   \n",
       "4                [hague, party, growth, %, prices]   \n",
       "\n",
       "                                    LDA_Ltd  \\\n",
       "0     [human, fiat, argonaut, hendrix, ice]   \n",
       "1   [film, broadband, west, henman, e-mail]   \n",
       "2  [rugby, hague, ukraine, dicaprio, panda]   \n",
       "3   [music, solskjaer, pernod, debt, child]   \n",
       "4       [fox, pension, virgin, blue, bates]   \n",
       "\n",
       "                             LDA_Filtered  \\\n",
       "0     [club, show, technology, bbc, debt]   \n",
       "1   [share, lord, news, quarter, economy]   \n",
       "2   [music, union, left, service, howard]   \n",
       "3  [court, party, government, coach, cup]   \n",
       "4   [ambition, rate, wale, policy, party]   \n",
       "\n",
       "                                     LDA_Nouns  \n",
       "0     [hague, rates, growth, robinson, gorges]  \n",
       "1     [virgin, sayeed, ranieri, ebbers, vioxx]  \n",
       "2     [hague, rates, growth, robinson, gorges]  \n",
       "3         [oil, prices, gm, barrel, wilkinson]  \n",
       "4  [traffic, parker, yukos, audio, technology]  "
      ]
     },
     "execution_count": 32,
     "metadata": {},
     "output_type": "execute_result"
    }
   ],
   "source": [
    "df.head()"
   ]
  },
  {
   "cell_type": "code",
   "execution_count": null,
   "metadata": {},
   "outputs": [],
   "source": [
    "# Evaluating LDA models: Topic coherence\n",
    "from gensim.models import CoherenceModel\n",
    "\n",
    "goodLdaModel = LdaModel(corpus=tfidfNouns, id2word=dictionaryNouns, iterations=50, num_topics=2)\n",
    "badLdaModel = LdaModel(corpus=tfidfNouns, id2word=dictionaryNouns, iterations=1, num_topics=2)\n",
    "\n",
    "goodcm = CoherenceModel(model=goodLdaModel, corpus=tfidfNouns, dictionary=dictionaryNouns, coherence='u_mass')\n",
    "badcm  = CoherenceModel(model=badLdaModel, corpus=tfidfNouns, dictionary=dictionaryNouns, coherence='u_mass')"
   ]
  },
  {
   "cell_type": "code",
   "execution_count": null,
   "metadata": {},
   "outputs": [],
   "source": [
    "goodcm = CoherenceModel(model=goodLdaModel, texts=tfidfNouns, dictionary=dictionaryNouns, coherence='c_v')\n",
    "badcm  = CoherenceModel(model=badLdaModel, texts=tfidfNouns, dictionary=dictionaryNouns, coherence='c_v')"
   ]
  },
  {
   "cell_type": "markdown",
   "metadata": {},
   "source": [
    "### Perplexity, Log likelihood"
   ]
  }
 ],
 "metadata": {
  "kernelspec": {
   "display_name": "Python 3.9.13 64-bit (microsoft store)",
   "language": "python",
   "name": "python3"
  },
  "language_info": {
   "codemirror_mode": {
    "name": "ipython",
    "version": 3
   },
   "file_extension": ".py",
   "mimetype": "text/x-python",
   "name": "python",
   "nbconvert_exporter": "python",
   "pygments_lexer": "ipython3",
   "version": "3.9.13"
  },
  "orig_nbformat": 4,
  "vscode": {
   "interpreter": {
    "hash": "bfe9ce709e982859ebd8c1b094ee35d9f73a27801040ad55cc46450c9d5cadda"
   }
  }
 },
 "nbformat": 4,
 "nbformat_minor": 2
}
